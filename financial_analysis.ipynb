{
 "cells": [
  {
   "cell_type": "markdown",
   "id": "bf65847a",
   "metadata": {},
   "source": [
    "# Análise de Dados do Aplicativo de Gestão Financeira"
   ]
  },
  {
   "cell_type": "code",
   "execution_count": null,
   "id": "25f24e9b",
   "metadata": {},
   "outputs": [],
   "source": [
    "import pandas as pd\n",
    "import numpy as np\n",
    "import matplotlib.pyplot as plt\n",
    "import seaborn as sns"
   ]
  },
  {
   "cell_type": "markdown",
   "id": "effe46a2",
   "metadata": {},
   "source": [
    "## Carregar os dados"
   ]
  },
  {
   "cell_type": "code",
   "execution_count": null,
   "id": "98d77d23",
   "metadata": {},
   "outputs": [],
   "source": [
    "df = pd.read_csv('financial_data.csv')\n",
    "df.head()"
   ]
  },
  {
   "cell_type": "markdown",
   "id": "d53a93cf",
   "metadata": {},
   "source": [
    "## Informações básicas sobre os dados"
   ]
  },
  {
   "cell_type": "code",
   "execution_count": null,
   "id": "7c22ebf8",
   "metadata": {},
   "outputs": [],
   "source": [
    "df.info()"
   ]
  },
  {
   "cell_type": "code",
   "execution_count": null,
   "id": "8aba504a",
   "metadata": {},
   "outputs": [],
   "source": [
    "df.describe()"
   ]
  },
  {
   "cell_type": "markdown",
   "id": "24224c9f",
   "metadata": {},
   "source": [
    "## Análise Exploratória de Dados (EDA)"
   ]
  },
  {
   "cell_type": "code",
   "execution_count": null,
   "id": "d12b67b8",
   "metadata": {},
   "outputs": [],
   "source": [
    "plt.figure(figsize=(10, 6))\n",
    "sns.countplot(data=df, x='category', order=df['category'].value_counts().index)\n",
    "plt.xticks(rotation=90)\n",
    "plt.title('Distribuição das Categorias de Transações')\n",
    "plt.show()"
   ]
  },
  {
   "cell_type": "markdown",
   "id": "5ba0f526",
   "metadata": {},
   "source": [
    "## Análise das transações por mês"
   ]
  },
  {
   "cell_type": "code",
   "execution_count": null,
   "id": "b89fd0d6",
   "metadata": {},
   "outputs": [],
   "source": [
    "df['date'] = pd.to_datetime(df['date'])\n",
    "df['month'] = df['date'].dt.to_period('M')\n",
    "monthly_data = df.groupby(['month', 'type'])['amount'].sum().unstack()\n",
    "monthly_data.plot(kind='bar', stacked=True, figsize=(12, 8))\n",
    "plt.title('Transações Mensais')\n",
    "plt.xlabel('Mês')\n",
    "plt.ylabel('Valor')\n",
    "plt.legend(['Despesa', 'Renda'])\n",
    "plt.show()"
   ]
  },
  {
   "cell_type": "markdown",
   "id": "ec567f6c",
   "metadata": {},
   "source": [
    "## Análise das transações por categoria"
   ]
  },
  {
   "cell_type": "code",
   "execution_count": null,
   "id": "b855f0ac",
   "metadata": {},
   "outputs": [],
   "source": [
    "category_data = df.groupby('category')['amount'].sum().sort_values(ascending=False)\n",
    "plt.figure(figsize=(12, 8))\n",
    "sns.barplot(x=category_data.values, y=category_data.index)\n",
    "plt.title('Transações por Categoria')\n",
    "plt.xlabel('Valor')\n",
    "plt.ylabel('Categoria')\n",
    "plt.show()"
   ]
  },
  {
   "cell_type": "markdown",
   "id": "630861af",
   "metadata": {},
   "source": [
    "## Conclusões"
   ]
  },
  {
   "cell_type": "code",
   "execution_count": null,
   "id": "8dc93fe0",
   "metadata": {},
   "outputs": [],
   "source": [
    "print(\"Análise concluída. As visualizações fornecem insights sobre o comportamento financeiro.\")"
   ]
  }
 ],
 "metadata": {},
 "nbformat": 4,
 "nbformat_minor": 5
}
